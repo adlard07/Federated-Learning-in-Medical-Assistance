{
  "cells": [
    {
      "cell_type": "code",
      "source": [
        "!pip install kaggle"
      ],
      "metadata": {
        "colab": {
          "base_uri": "https://localhost:8080/"
        },
        "id": "n0tXHyt4hyyi",
        "outputId": "efa26ebf-8533-4aa8-914b-2160b2ac9013"
      },
      "id": "n0tXHyt4hyyi",
      "execution_count": 1,
      "outputs": [
        {
          "output_type": "stream",
          "name": "stdout",
          "text": [
            "Requirement already satisfied: kaggle in /usr/local/lib/python3.10/dist-packages (1.5.16)\n",
            "Requirement already satisfied: six>=1.10 in /usr/local/lib/python3.10/dist-packages (from kaggle) (1.16.0)\n",
            "Requirement already satisfied: certifi in /usr/local/lib/python3.10/dist-packages (from kaggle) (2023.11.17)\n",
            "Requirement already satisfied: python-dateutil in /usr/local/lib/python3.10/dist-packages (from kaggle) (2.8.2)\n",
            "Requirement already satisfied: requests in /usr/local/lib/python3.10/dist-packages (from kaggle) (2.31.0)\n",
            "Requirement already satisfied: tqdm in /usr/local/lib/python3.10/dist-packages (from kaggle) (4.66.1)\n",
            "Requirement already satisfied: python-slugify in /usr/local/lib/python3.10/dist-packages (from kaggle) (8.0.1)\n",
            "Requirement already satisfied: urllib3 in /usr/local/lib/python3.10/dist-packages (from kaggle) (2.0.7)\n",
            "Requirement already satisfied: bleach in /usr/local/lib/python3.10/dist-packages (from kaggle) (6.1.0)\n",
            "Requirement already satisfied: webencodings in /usr/local/lib/python3.10/dist-packages (from bleach->kaggle) (0.5.1)\n",
            "Requirement already satisfied: text-unidecode>=1.3 in /usr/local/lib/python3.10/dist-packages (from python-slugify->kaggle) (1.3)\n",
            "Requirement already satisfied: charset-normalizer<4,>=2 in /usr/local/lib/python3.10/dist-packages (from requests->kaggle) (3.3.2)\n",
            "Requirement already satisfied: idna<4,>=2.5 in /usr/local/lib/python3.10/dist-packages (from requests->kaggle) (3.6)\n"
          ]
        }
      ]
    },
    {
      "cell_type": "code",
      "source": [
        "from google.colab import drive\n",
        "drive.mount('/content/drive')"
      ],
      "metadata": {
        "colab": {
          "base_uri": "https://localhost:8080/"
        },
        "id": "0EqxCii-hy41",
        "outputId": "d7d23156-e6c2-4495-995f-b965eaf7e720"
      },
      "id": "0EqxCii-hy41",
      "execution_count": 2,
      "outputs": [
        {
          "output_type": "stream",
          "name": "stdout",
          "text": [
            "Mounted at /content/drive\n"
          ]
        }
      ]
    },
    {
      "cell_type": "code",
      "source": [
        "! mkdir ~/.kaggle"
      ],
      "metadata": {
        "id": "bCSUafyoZTiJ"
      },
      "execution_count": 3,
      "outputs": [],
      "id": "bCSUafyoZTiJ"
    },
    {
      "cell_type": "code",
      "source": [
        "!cp /content/drive/MyDrive/kaggle_creds/kaggle.json ~/.kaggle/kaggle.json"
      ],
      "metadata": {
        "id": "h_efFaITZ5av"
      },
      "execution_count": 4,
      "outputs": [],
      "id": "h_efFaITZ5av"
    },
    {
      "cell_type": "code",
      "source": [
        "! chmod 600 ~/.kaggle/kaggle.json"
      ],
      "metadata": {
        "id": "MhkL-CLDdooG"
      },
      "execution_count": 5,
      "outputs": [],
      "id": "MhkL-CLDdooG"
    },
    {
      "cell_type": "code",
      "source": [
        "!kaggle datasets download -d paultimothymooney/chest-xray-pneumonia"
      ],
      "metadata": {
        "colab": {
          "base_uri": "https://localhost:8080/"
        },
        "id": "mfhhPYF4drfd",
        "outputId": "10b9129f-d28c-4bfc-a1cc-ab447a39fa03"
      },
      "execution_count": 6,
      "outputs": [
        {
          "output_type": "stream",
          "name": "stdout",
          "text": [
            "Downloading chest-xray-pneumonia.zip to /content\n",
            "100% 2.28G/2.29G [00:16<00:00, 182MB/s]\n",
            "100% 2.29G/2.29G [00:17<00:00, 145MB/s]\n"
          ]
        }
      ],
      "id": "mfhhPYF4drfd"
    },
    {
      "cell_type": "code",
      "source": [
        "import zipfile\n",
        "import os\n",
        "\n",
        "zip_file_path = '/content/chest-xray-pneumonia.zip'\n",
        "\n",
        "extract_path = '/content/'\n",
        "\n",
        "with zipfile.ZipFile(zip_file_path, 'r') as zip_ref:\n",
        "    zip_ref.extractall(extract_path)\n",
        "\n",
        "os.listdir(extract_path)"
      ],
      "metadata": {
        "colab": {
          "base_uri": "https://localhost:8080/"
        },
        "id": "6NKVd9L1iG4N",
        "outputId": "c187eec9-3136-4b88-cb8b-929b5d9c8e9e"
      },
      "id": "6NKVd9L1iG4N",
      "execution_count": 8,
      "outputs": [
        {
          "output_type": "execute_result",
          "data": {
            "text/plain": [
              "['.config', 'chest_xray', 'chest-xray-pneumonia.zip', 'drive', 'sample_data']"
            ]
          },
          "metadata": {},
          "execution_count": 8
        }
      ]
    },
    {
      "cell_type": "markdown",
      "id": "01e49a9e",
      "metadata": {
        "id": "01e49a9e"
      },
      "source": [
        "Importing Libraries"
      ]
    },
    {
      "cell_type": "code",
      "execution_count": 9,
      "id": "c6ab438c",
      "metadata": {
        "id": "c6ab438c"
      },
      "outputs": [],
      "source": [
        "import numpy as np\n",
        "import tensorflow as tf\n",
        "from tensorflow.keras.models import Sequential, load_model\n",
        "from tensorflow.keras.layers import Dense, Activation, Flatten, Conv2D, BatchNormalization, MaxPooling2D\n",
        "from tensorflow.keras.optimizers import Adam\n",
        "from tensorflow.keras.preprocessing.image import ImageDataGenerator\n",
        "from tensorflow.keras.metrics import categorical_crossentropy\n",
        "from sklearn.metrics import confusion_matrix\n",
        "from sklearn.utils import shuffle\n",
        "import random\n",
        "from glob import glob\n",
        "import pandas as pd\n",
        "import matplotlib.pyplot as plt\n",
        "import pickle\n",
        "import cv2"
      ]
    },
    {
      "cell_type": "markdown",
      "id": "a0ec39d1",
      "metadata": {
        "id": "a0ec39d1"
      },
      "source": [
        "Dataset from\n",
        "https://www.kaggle.com/datasets/paultimothymooney/chest-xray-pneumonia"
      ]
    },
    {
      "cell_type": "markdown",
      "id": "a1fd96c0",
      "metadata": {
        "id": "a1fd96c0"
      },
      "source": [
        "Loading train samples"
      ]
    },
    {
      "cell_type": "code",
      "execution_count": 10,
      "id": "f7a24e67",
      "metadata": {
        "id": "f7a24e67",
        "outputId": "73da1bd1-c0dc-48f8-971f-b42e782b9368",
        "colab": {
          "base_uri": "https://localhost:8080/"
        }
      },
      "outputs": [
        {
          "output_type": "execute_result",
          "data": {
            "text/plain": [
              "(1341, 3875)"
            ]
          },
          "metadata": {},
          "execution_count": 10
        }
      ],
      "source": [
        "image_ext = ['jpeg', 'jpg', 'png', 'bmp']\n",
        "\n",
        "normal_train_samples = []\n",
        "pneumonia_train_samples = []\n",
        "\n",
        "for i in image_ext:\n",
        "    normal = glob(f'/content/chest_xray/train/NORMAL/*{i}')\n",
        "    normal_train_samples.extend(normal)\n",
        "\n",
        "    pneumonia = glob(f'/content/chest_xray/train/PNEUMONIA/*{i}')\n",
        "    pneumonia_train_samples.extend(pneumonia)\n",
        "len(normal_train_samples), len(pneumonia_train_samples)"
      ]
    },
    {
      "cell_type": "markdown",
      "id": "d66d7abd",
      "metadata": {
        "id": "d66d7abd"
      },
      "source": [
        "Creating train inputs and labels"
      ]
    },
    {
      "cell_type": "code",
      "execution_count": 11,
      "id": "66185880",
      "metadata": {
        "id": "66185880",
        "outputId": "9feeefe2-605b-4ec5-c0b2-62f7a486a3a1",
        "colab": {
          "base_uri": "https://localhost:8080/"
        }
      },
      "outputs": [
        {
          "output_type": "execute_result",
          "data": {
            "text/plain": [
              "(5216, 5216)"
            ]
          },
          "metadata": {},
          "execution_count": 11
        }
      ],
      "source": [
        "train_samples = []\n",
        "train_labels = []\n",
        "\n",
        "np.random.seed(123)\n",
        "\n",
        "np.array(train_samples.extend(normal_train_samples))\n",
        "np.array(train_samples.extend(pneumonia_train_samples))\n",
        "\n",
        "train_labels.extend(map(int, np.zeros(len(normal_train_samples))))\n",
        "train_labels.extend(map(int, [1] * len(pneumonia_train_samples)))\n",
        "\n",
        "train_samples, train_labels = shuffle(train_samples, train_labels)\n",
        "\n",
        "len(train_samples), len(train_labels)"
      ]
    },
    {
      "cell_type": "markdown",
      "id": "36dc10db",
      "metadata": {
        "id": "36dc10db"
      },
      "source": [
        "Loading test samples"
      ]
    },
    {
      "cell_type": "code",
      "execution_count": 12,
      "id": "287f0f5a",
      "metadata": {
        "id": "287f0f5a",
        "outputId": "d15b5330-7dc8-4219-bc32-3f4acb7c18bd",
        "colab": {
          "base_uri": "https://localhost:8080/"
        }
      },
      "outputs": [
        {
          "output_type": "execute_result",
          "data": {
            "text/plain": [
              "(234, 390)"
            ]
          },
          "metadata": {},
          "execution_count": 12
        }
      ],
      "source": [
        "normal_test_samples = []\n",
        "pneumonia_test_samples = []\n",
        "\n",
        "\n",
        "for i in image_ext:\n",
        "    normal = glob(f'/content/chest_xray/test/NORMAL/*{i}')\n",
        "    normal_test_samples.extend(normal)\n",
        "\n",
        "    pneumonia = glob(f'/content/chest_xray/test/PNEUMONIA/*{i}')\n",
        "    pneumonia_test_samples.extend(pneumonia)\n",
        "len(normal_test_samples), len(pneumonia_test_samples)"
      ]
    },
    {
      "cell_type": "markdown",
      "id": "ffbbe9df",
      "metadata": {
        "id": "ffbbe9df"
      },
      "source": [
        "Creating test inputs and labels"
      ]
    },
    {
      "cell_type": "code",
      "execution_count": 13,
      "id": "42357ffa",
      "metadata": {
        "id": "42357ffa",
        "outputId": "2b942618-8481-46b6-a616-898e1ee2715e",
        "colab": {
          "base_uri": "https://localhost:8080/"
        }
      },
      "outputs": [
        {
          "output_type": "execute_result",
          "data": {
            "text/plain": [
              "(624, 624)"
            ]
          },
          "metadata": {},
          "execution_count": 13
        }
      ],
      "source": [
        "test_samples = []\n",
        "test_labels = []\n",
        "\n",
        "np.array(test_samples.extend(normal_test_samples))\n",
        "np.array(test_samples.extend(pneumonia_test_samples))\n",
        "\n",
        "test_labels.extend(map(int, np.zeros(len(normal_test_samples))))\n",
        "test_labels.extend(map(int, [1] * len(pneumonia_test_samples)))\n",
        "\n",
        "test_samples, test_labels = shuffle(test_samples, test_labels)\n",
        "\n",
        "len(test_samples), len(test_labels)"
      ]
    },
    {
      "cell_type": "markdown",
      "id": "c6602360",
      "metadata": {
        "id": "c6602360"
      },
      "source": [
        "Loading evaluation sample"
      ]
    },
    {
      "cell_type": "code",
      "execution_count": 14,
      "id": "bb137173",
      "metadata": {
        "id": "bb137173",
        "outputId": "ea329b12-1bd0-44f6-8f7a-bb6549513ce9",
        "colab": {
          "base_uri": "https://localhost:8080/"
        }
      },
      "outputs": [
        {
          "output_type": "execute_result",
          "data": {
            "text/plain": [
              "(8, 8)"
            ]
          },
          "metadata": {},
          "execution_count": 14
        }
      ],
      "source": [
        "normal_val_samples = []\n",
        "pneumonia_val_samples = []\n",
        "\n",
        "\n",
        "for i in image_ext:\n",
        "    normal = glob(f'/content/chest_xray/val/NORMAL/*{i}')\n",
        "    normal_val_samples.extend(normal)\n",
        "\n",
        "    pneumonia = glob(f'/content/chest_xray/val/PNEUMONIA/*{i}')\n",
        "    pneumonia_val_samples.extend(pneumonia)\n",
        "len(normal_val_samples), len(pneumonia_val_samples)"
      ]
    },
    {
      "cell_type": "markdown",
      "id": "37f8b9b3",
      "metadata": {
        "id": "37f8b9b3"
      },
      "source": [
        "Creating evaluation inputs and labels"
      ]
    },
    {
      "cell_type": "code",
      "execution_count": 15,
      "id": "5abe9076",
      "metadata": {
        "id": "5abe9076",
        "outputId": "e895e16c-e7c8-41a5-db63-e58a8b5b0648",
        "colab": {
          "base_uri": "https://localhost:8080/"
        }
      },
      "outputs": [
        {
          "output_type": "execute_result",
          "data": {
            "text/plain": [
              "(16, 16)"
            ]
          },
          "metadata": {},
          "execution_count": 15
        }
      ],
      "source": [
        "val_samples = []\n",
        "val_labels = []\n",
        "\n",
        "np.array(val_samples.extend(normal_val_samples))\n",
        "np.array(val_samples.extend(pneumonia_val_samples))\n",
        "\n",
        "val_labels.extend(map(int, np.zeros(len(normal_val_samples))))\n",
        "val_labels.extend(map(int, [1] * len(pneumonia_val_samples)))\n",
        "\n",
        "val_samples, val_labels = shuffle(val_samples, val_labels)\n",
        "\n",
        "len(val_samples), len(val_labels)"
      ]
    },
    {
      "cell_type": "markdown",
      "id": "4431ba53",
      "metadata": {
        "id": "4431ba53"
      },
      "source": [
        "Reading & Resizing Data"
      ]
    },
    {
      "cell_type": "code",
      "execution_count": 16,
      "id": "0c949bf2",
      "metadata": {
        "id": "0c949bf2"
      },
      "outputs": [],
      "source": [
        "dim = 500\n",
        "def image_resize(samples):\n",
        "    image_samples = []\n",
        "    for img in samples:\n",
        "        image = cv2.imread(img)\n",
        "        resize_img = cv2.resize(image, (dim, dim))\n",
        "        image_samples.append(resize_img)\n",
        "    return image_samples"
      ]
    },
    {
      "cell_type": "code",
      "execution_count": 17,
      "id": "fbb13757",
      "metadata": {
        "id": "fbb13757"
      },
      "outputs": [],
      "source": [
        "train_data = np.array(image_resize(train_samples))\n",
        "train_labels = np.array(train_labels)"
      ]
    },
    {
      "cell_type": "code",
      "execution_count": 18,
      "id": "59566406",
      "metadata": {
        "id": "59566406",
        "outputId": "e54d933e-a1bc-4cc6-9772-01c8047c3972",
        "colab": {
          "base_uri": "https://localhost:8080/"
        }
      },
      "outputs": [
        {
          "output_type": "execute_result",
          "data": {
            "text/plain": [
              "((5216, 500, 500, 3), (5216,))"
            ]
          },
          "metadata": {},
          "execution_count": 18
        }
      ],
      "source": [
        "train_data.shape, train_labels.shape"
      ]
    },
    {
      "cell_type": "code",
      "execution_count": 19,
      "id": "aa671440",
      "metadata": {
        "id": "aa671440"
      },
      "outputs": [],
      "source": [
        "test_data = np.array(image_resize(test_samples))\n",
        "test_labels = np.array(test_labels)"
      ]
    },
    {
      "cell_type": "code",
      "execution_count": 20,
      "id": "8097d425",
      "metadata": {
        "scrolled": true,
        "id": "8097d425",
        "outputId": "57b264dc-a438-4eac-9a5c-b784d7a5d817",
        "colab": {
          "base_uri": "https://localhost:8080/"
        }
      },
      "outputs": [
        {
          "output_type": "execute_result",
          "data": {
            "text/plain": [
              "((624, 500, 500, 3), (624,))"
            ]
          },
          "metadata": {},
          "execution_count": 20
        }
      ],
      "source": [
        "test_data.shape, test_labels.shape"
      ]
    },
    {
      "cell_type": "code",
      "execution_count": 21,
      "id": "9bba9442",
      "metadata": {
        "id": "9bba9442"
      },
      "outputs": [],
      "source": [
        "val_data = np.array(image_resize(val_samples))\n",
        "val_labels = np.array(val_labels)"
      ]
    },
    {
      "cell_type": "code",
      "execution_count": 22,
      "id": "a34e585a",
      "metadata": {
        "id": "a34e585a",
        "outputId": "b3d9ac9d-d3dd-4825-8fd1-878b59332b09",
        "colab": {
          "base_uri": "https://localhost:8080/"
        }
      },
      "outputs": [
        {
          "output_type": "execute_result",
          "data": {
            "text/plain": [
              "((16, 500, 500, 3), (16,))"
            ]
          },
          "metadata": {},
          "execution_count": 22
        }
      ],
      "source": [
        "val_data.shape, val_labels.shape"
      ]
    },
    {
      "cell_type": "markdown",
      "id": "e8a1a828",
      "metadata": {
        "id": "e8a1a828"
      },
      "source": [
        "Model building"
      ]
    },
    {
      "cell_type": "code",
      "execution_count": 23,
      "id": "46eff423",
      "metadata": {
        "id": "46eff423"
      },
      "outputs": [],
      "source": [
        "model = Sequential([\n",
        "    Conv2D(filters=32, kernel_size=(3, 3), activation='relu', padding='same', input_shape=(dim, dim, 3)),\n",
        "    MaxPooling2D(pool_size=(2, 2), strides=2),\n",
        "\n",
        "    Conv2D(filters=16, kernel_size=(3, 3), activation='relu', padding='same'),\n",
        "    MaxPooling2D(),\n",
        "\n",
        "    Flatten(),\n",
        "    Dense(units=2, activation='sigmoid')\n",
        "])"
      ]
    },
    {
      "cell_type": "code",
      "execution_count": 24,
      "id": "bb9382c6",
      "metadata": {
        "id": "bb9382c6",
        "outputId": "56e450a1-c181-420d-b43c-5b4da56d5f9d",
        "colab": {
          "base_uri": "https://localhost:8080/"
        }
      },
      "outputs": [
        {
          "output_type": "stream",
          "name": "stdout",
          "text": [
            "Model: \"sequential\"\n",
            "_________________________________________________________________\n",
            " Layer (type)                Output Shape              Param #   \n",
            "=================================================================\n",
            " conv2d (Conv2D)             (None, 500, 500, 32)      896       \n",
            "                                                                 \n",
            " max_pooling2d (MaxPooling2  (None, 250, 250, 32)      0         \n",
            " D)                                                              \n",
            "                                                                 \n",
            " conv2d_1 (Conv2D)           (None, 250, 250, 16)      4624      \n",
            "                                                                 \n",
            " max_pooling2d_1 (MaxPoolin  (None, 125, 125, 16)      0         \n",
            " g2D)                                                            \n",
            "                                                                 \n",
            " flatten (Flatten)           (None, 250000)            0         \n",
            "                                                                 \n",
            " dense (Dense)               (None, 2)                 500002    \n",
            "                                                                 \n",
            "=================================================================\n",
            "Total params: 505522 (1.93 MB)\n",
            "Trainable params: 505522 (1.93 MB)\n",
            "Non-trainable params: 0 (0.00 Byte)\n",
            "_________________________________________________________________\n"
          ]
        }
      ],
      "source": [
        "model.summary()"
      ]
    },
    {
      "cell_type": "code",
      "execution_count": 25,
      "id": "913fda52",
      "metadata": {
        "id": "913fda52"
      },
      "outputs": [],
      "source": [
        "model.compile(optimizer=Adam(learning_rate=0.01), loss='sparse_categorical_crossentropy', metrics=['accuracy'])"
      ]
    },
    {
      "cell_type": "markdown",
      "source": [
        "Model Training"
      ],
      "metadata": {
        "id": "AF5kszfDj2Ip"
      },
      "id": "AF5kszfDj2Ip"
    },
    {
      "cell_type": "code",
      "execution_count": null,
      "id": "00c1cd56",
      "metadata": {
        "id": "00c1cd56"
      },
      "outputs": [],
      "source": [
        "model.fit(\n",
        "    x=train_data,\n",
        "    y=train_labels,\n",
        "    batch_size=100,\n",
        "    validation_data=(test_data,test_labels),\n",
        "    epochs=5,\n",
        "    shuffle=True,\n",
        "    verbose=1\n",
        ")"
      ]
    },
    {
      "cell_type": "markdown",
      "source": [
        "Save Model"
      ],
      "metadata": {
        "id": "StxE9R1wj5eg"
      },
      "id": "StxE9R1wj5eg"
    },
    {
      "cell_type": "code",
      "execution_count": null,
      "id": "52dbb01b",
      "metadata": {
        "id": "52dbb01b"
      },
      "outputs": [],
      "source": [
        "model.save('model.h5')\n",
        "print('Model Saved!')"
      ]
    },
    {
      "cell_type": "markdown",
      "source": [
        "Load Saved Model"
      ],
      "metadata": {
        "id": "9-JP5BSjj7PC"
      },
      "id": "9-JP5BSjj7PC"
    },
    {
      "cell_type": "code",
      "execution_count": null,
      "id": "6d8d033c",
      "metadata": {
        "id": "6d8d033c"
      },
      "outputs": [],
      "source": [
        "loaded_model = load_model('model.h5')\n",
        "loaded_model.summary()"
      ]
    },
    {
      "cell_type": "markdown",
      "source": [
        "Model Evaluation"
      ],
      "metadata": {
        "id": "i0pwcUAQj9z3"
      },
      "id": "i0pwcUAQj9z3"
    },
    {
      "cell_type": "code",
      "execution_count": null,
      "id": "52cda039",
      "metadata": {
        "id": "52cda039"
      },
      "outputs": [],
      "source": [
        "loaded_model.evaluate(test_data, test_labels)"
      ]
    },
    {
      "cell_type": "markdown",
      "source": [
        "Prediction"
      ],
      "metadata": {
        "id": "yz3UBw_hj__J"
      },
      "id": "yz3UBw_hj__J"
    },
    {
      "cell_type": "code",
      "execution_count": null,
      "id": "e19b7780",
      "metadata": {
        "id": "e19b7780"
      },
      "outputs": [],
      "source": [
        "predictions = model.predict(val_data)"
      ]
    },
    {
      "cell_type": "code",
      "execution_count": null,
      "id": "c3895957",
      "metadata": {
        "id": "c3895957"
      },
      "outputs": [],
      "source": [
        "np.round(predictions), sample_labels"
      ]
    },
    {
      "cell_type": "markdown",
      "source": [
        "Confusion Matrix"
      ],
      "metadata": {
        "id": "l6xf0mmGkDcY"
      },
      "id": "l6xf0mmGkDcY"
    },
    {
      "cell_type": "code",
      "execution_count": null,
      "id": "afa44725",
      "metadata": {
        "id": "afa44725"
      },
      "outputs": [],
      "source": [
        "confusion_matrix(y_true=test_data, y_pred=test_labels)"
      ]
    },
    {
      "cell_type": "code",
      "source": [],
      "metadata": {
        "id": "HbSXbVbbkQHk"
      },
      "id": "HbSXbVbbkQHk",
      "execution_count": null,
      "outputs": []
    }
  ],
  "metadata": {
    "kernelspec": {
      "display_name": "Python 3",
      "name": "python3"
    },
    "language_info": {
      "codemirror_mode": {
        "name": "ipython",
        "version": 3
      },
      "file_extension": ".py",
      "mimetype": "text/x-python",
      "name": "python",
      "nbconvert_exporter": "python",
      "pygments_lexer": "ipython3",
      "version": "3.9.7"
    },
    "colab": {
      "provenance": [],
      "gpuType": "T4"
    },
    "accelerator": "GPU"
  },
  "nbformat": 4,
  "nbformat_minor": 5
}